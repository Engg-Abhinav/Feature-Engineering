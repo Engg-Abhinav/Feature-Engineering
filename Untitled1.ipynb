{
 "cells": [
  {
   "cell_type": "code",
   "execution_count": 1,
   "id": "38277363-0680-41cf-8d5c-a9dc5ff62d44",
   "metadata": {},
   "outputs": [],
   "source": [
    "# FE_FlightPrediction_Dataset"
   ]
  },
  {
   "cell_type": "code",
   "execution_count": null,
   "id": "a2da9600-9c56-45f0-9700-981d8b09c2b2",
   "metadata": {},
   "outputs": [],
   "source": []
  }
 ],
 "metadata": {
  "kernelspec": {
   "display_name": "Python 3 (ipykernel)",
   "language": "python",
   "name": "python3"
  },
  "language_info": {
   "codemirror_mode": {
    "name": "ipython",
    "version": 3
   },
   "file_extension": ".py",
   "mimetype": "text/x-python",
   "name": "python",
   "nbconvert_exporter": "python",
   "pygments_lexer": "ipython3",
   "version": "3.10.9"
  }
 },
 "nbformat": 4,
 "nbformat_minor": 5
}
