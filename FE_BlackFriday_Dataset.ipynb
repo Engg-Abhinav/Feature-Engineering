{
 "cells": [
  {
   "cell_type": "markdown",
   "id": "2ff07e57-f076-44e4-8c66-0ffb30ec932a",
   "metadata": {},
   "source": [
    "# Black Friday Dataset Exploratory Data Analysis and Feature Engineering"
   ]
  },
  {
   "cell_type": "code",
   "execution_count": null,
   "id": "b21d7cef-d51a-4470-aef7-bda9ee6059d1",
   "metadata": {},
   "outputs": [],
   "source": []
  }
 ],
 "metadata": {
  "kernelspec": {
   "display_name": "Python 3 (ipykernel)",
   "language": "python",
   "name": "python3"
  },
  "language_info": {
   "codemirror_mode": {
    "name": "ipython",
    "version": 3
   },
   "file_extension": ".py",
   "mimetype": "text/x-python",
   "name": "python",
   "nbconvert_exporter": "python",
   "pygments_lexer": "ipython3",
   "version": "3.10.9"
  }
 },
 "nbformat": 4,
 "nbformat_minor": 5
}
